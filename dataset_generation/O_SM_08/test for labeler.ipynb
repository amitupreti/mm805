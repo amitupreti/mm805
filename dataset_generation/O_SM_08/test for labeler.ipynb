{
 "cells": [
  {
   "cell_type": "code",
   "execution_count": 78,
   "id": "3069c161",
   "metadata": {},
   "outputs": [],
   "source": [
    "import os\n",
    "import cv2\n",
    "import matplotlib.pyplot as plt\n",
    "import gc\n",
    "from dense_flow import dense_flow\n",
    "from time import sleep\n",
    "\n",
    "FRAMES_PATH = './O_SM_08-GT/'\n",
    "DENSE_PATH = './optical_flow1/'\n",
    "import numpy as np\n",
    "try:\n",
    "    os.mkdir(DENSE_PATH)\n",
    "except FileExistsError:\n",
    "    pass\n",
    "maxval = 255\n",
    "thresh = 10# IF PIXEL VALUE IS MORE THAN 30 MAKE IT WHITE ELSE BLACK"
   ]
  },
  {
   "cell_type": "code",
   "execution_count": 11,
   "id": "3ed440f8",
   "metadata": {},
   "outputs": [],
   "source": [
    "\n",
    "if __name__ == '__main__':\n",
    "    counter = 0\n",
    "    files = os.listdir(FRAMES_PATH)\n",
    "    files.sort(key=lambda x: int(x.split('.')[0].split('_')[-1]))\n",
    "\n",
    "    # breakpoint()\n",
    "    # files = files[3977:]  # doing small for test. Will regenerate the whole later\n",
    "    for i in range(0, len(files), 2):\n",
    "        i=150\n",
    "        name1 = files[i]\n",
    "        name2 = files[i + 1]\n",
    "        frame1 = f'{FRAMES_PATH}{name1}'\n",
    "        frame2 = f'{FRAMES_PATH}{name2}'\n",
    "\n",
    "        img1 = plt.imread(frame1)\n",
    "        img2 = plt.imread(frame2)\n",
    "        combined = np.concatenate((img1, img2), axis=1)\n",
    "        break"
   ]
  },
  {
   "cell_type": "code",
   "execution_count": 79,
   "id": "8a376aab",
   "metadata": {},
   "outputs": [],
   "source": [
    "from PIL import Image\n",
    "from numpy import asarray\n",
    "  \n",
    "  \n",
    "# load the image and convert into\n",
    "# numpy array\n",
    "img = Image.open(frame1)\n",
    "  \n",
    "# asarray() class is used to convert\n",
    "# PIL images into NumPy arrays\n",
    "numpydata1 = asarray(Image.open(frame1))\n",
    "numpydata2 = asarray(Image.open(frame2))\n",
    "combined = numpydata1 + numpydata2"
   ]
  },
  {
   "cell_type": "code",
   "execution_count": 87,
   "id": "e99cb315",
   "metadata": {},
   "outputs": [],
   "source": [
    "im_gray = np.array(Image.fromarray(combined).convert('L'))\n",
    "im_bin = (im_gray > thresh) * maxval"
   ]
  },
  {
   "cell_type": "code",
   "execution_count": 90,
   "id": "87ad90b0",
   "metadata": {},
   "outputs": [],
   "source": []
  },
  {
   "cell_type": "code",
   "execution_count": 69,
   "id": "cd2c58df",
   "metadata": {},
   "outputs": [
    {
     "data": {
      "text/plain": [
       "<matplotlib.image.AxesImage at 0x7f9f487a8640>"
      ]
     },
     "execution_count": 69,
     "metadata": {},
     "output_type": "execute_result"
    },
    {
     "data": {
      "image/png": "[encoded data removed]",
      "text/plain": [
       "<Figure size 432x288 with 1 Axes>"
      ]
     },
     "metadata": {
      "needs_background": "light"
     },
     "output_type": "display_data"
    }
   ],
   "source": [
    "plt.imshow(numpydata2)"
   ]
  },
  {
   "cell_type": "code",
   "execution_count": 70,
   "id": "9cb51788",
   "metadata": {},
   "outputs": [
    {
     "data": {
      "text/plain": [
       "<matplotlib.image.AxesImage at 0x7f9f4876c580>"
      ]
     },
     "execution_count": 70,
     "metadata": {},
     "output_type": "execute_result"
    },
    {
     "data": {
      "image/png": "[encoded data removed]",
      "text/plain": [
       "<Figure size 432x288 with 1 Axes>"
      ]
     },
     "metadata": {
      "needs_background": "light"
     },
     "output_type": "display_data"
    }
   ],
   "source": [
    "plt.imshow(numpydata1)"
   ]
  },
  {
   "cell_type": "code",
   "execution_count": 71,
   "id": "77413eda",
   "metadata": {},
   "outputs": [
    {
     "data": {
      "text/plain": [
       "<matplotlib.image.AxesImage at 0x7f9f486cd610>"
      ]
     },
     "execution_count": 71,
     "metadata": {},
     "output_type": "execute_result"
    },
    {
     "data": {
      "image/png": "[encoded data removed]",
      "text/plain": [
       "<Figure size 432x288 with 1 Axes>"
      ]
     },
     "metadata": {
      "needs_background": "light"
     },
     "output_type": "display_data"
    }
   ],
   "source": [
    "plt.imshow(combined)"
   ]
  },
  {
   "cell_type": "code",
   "execution_count": 45,
   "id": "a3344b01",
   "metadata": {},
   "outputs": [
    {
     "ename": "TypeError",
     "evalue": "only size-1 arrays can be converted to Python scalars",
     "output_type": "error",
     "traceback": [
      "\u001b[0;31m---------------------------------------------------------------------------\u001b[0m",
      "\u001b[0;31mTypeError\u001b[0m                                 Traceback (most recent call last)",
      "Input \u001b[0;32mIn [45]\u001b[0m, in \u001b[0;36m<cell line: 1>\u001b[0;34m()\u001b[0m\n\u001b[0;32m----> 1\u001b[0m plt\u001b[38;5;241m.\u001b[39mimshow(\u001b[38;5;28;43mint\u001b[39;49m\u001b[43m(\u001b[49m\u001b[43m(\u001b[49m\u001b[43mimg1\u001b[49m\u001b[43m \u001b[49m\u001b[38;5;241;43m+\u001b[39;49m\u001b[43m \u001b[49m\u001b[38;5;241;43m1\u001b[39;49m\u001b[43m)\u001b[49m\u001b[43m \u001b[49m\u001b[38;5;241;43m*\u001b[39;49m\u001b[43m \u001b[49m\u001b[38;5;241;43m255\u001b[39;49m\u001b[43m \u001b[49m\u001b[38;5;241;43m/\u001b[39;49m\u001b[43m \u001b[49m\u001b[38;5;241;43m2\u001b[39;49m\u001b[43m)\u001b[49m)\n",
      "\u001b[0;31mTypeError\u001b[0m: only size-1 arrays can be converted to Python scalars"
     ]
    }
   ],
   "source": [
    "plt.imshow(int((img1 + 1) * 255 / 2))"
   ]
  },
  {
   "cell_type": "code",
   "execution_count": 73,
   "id": "ff0526e0",
   "metadata": {},
   "outputs": [],
   "source": [
    "combined[combined > 10] = 255"
   ]
  },
  {
   "cell_type": "code",
   "execution_count": 74,
   "id": "f0ab4f0e",
   "metadata": {},
   "outputs": [
    {
     "data": {
      "text/plain": [
       "<matplotlib.image.AxesImage at 0x7f9f486aefd0>"
      ]
     },
     "execution_count": 74,
     "metadata": {},
     "output_type": "execute_result"
    },
    {
     "data": {
      "image/png": "[encoded data removed]",
      "text/plain": [
       "<Figure size 432x288 with 1 Axes>"
      ]
     },
     "metadata": {
      "needs_background": "light"
     },
     "output_type": "display_data"
    }
   ],
   "source": [
    "plt.imshow(combined)"
   ]
  },
  {
   "cell_type": "code",
   "execution_count": 72,
   "id": "0104b283",
   "metadata": {},
   "outputs": [
    {
     "data": {
      "text/plain": [
       "Counter({0: 300026, 128: 2342, 255: 267, 127: 445, 254: 1048})"
      ]
     },
     "execution_count": 72,
     "metadata": {},
     "output_type": "execute_result"
    }
   ],
   "source": [
    "from collections import Counter\n",
    "Counter(combined.flatten())\n"
   ]
  },
  {
   "cell_type": "code",
   "execution_count": 75,
   "id": "a3d4a982",
   "metadata": {},
   "outputs": [
    {
     "data": {
      "image/png": "[encoded data removed]",
      "text/plain": [
       "<PIL.Image.Image image mode=RGB size=352x288 at 0x7F9F47A7B250>"
      ]
     },
     "execution_count": 75,
     "metadata": {},
     "output_type": "execute_result"
    }
   ],
   "source": []
  },
  {
   "cell_type": "code",
   "execution_count": null,
   "id": "612a2d08",
   "metadata": {},
   "outputs": [],
   "source": []
  }
 ],
 "metadata": {
  "kernelspec": {
   "display_name": "Python 3 (ipykernel)",
   "language": "python",
   "name": "python3"
  },
  "language_info": {
   "codemirror_mode": {
    "name": "ipython",
    "version": 3
   },
   "file_extension": ".py",
   "mimetype": "text/x-python",
   "name": "python",
   "nbconvert_exporter": "python",
   "pygments_lexer": "ipython3",
   "version": "3.8.10"
  }
 },
 "nbformat": 4,
 "nbformat_minor": 5
}
